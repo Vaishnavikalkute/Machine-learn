{
 "cells": [
  {
   "cell_type": "code",
   "execution_count": 1,
   "id": "e625cbf0",
   "metadata": {
    "_cell_guid": "b1076dfc-b9ad-4769-8c92-a6c4dae69d19",
    "_uuid": "8f2839f25d086af736a60e9eeb907d3b93b6e0e5",
    "execution": {
     "iopub.execute_input": "2024-09-18T10:46:38.426197Z",
     "iopub.status.busy": "2024-09-18T10:46:38.425736Z",
     "iopub.status.idle": "2024-09-18T10:46:41.115714Z",
     "shell.execute_reply": "2024-09-18T10:46:41.114476Z"
    },
    "papermill": {
     "duration": 2.704628,
     "end_time": "2024-09-18T10:46:41.118509",
     "exception": false,
     "start_time": "2024-09-18T10:46:38.413881",
     "status": "completed"
    },
    "tags": []
   },
   "outputs": [
    {
     "name": "stdout",
     "output_type": "stream",
     "text": [
      "/kaggle/input/titanic/train.csv\n",
      "/kaggle/input/titanic/test.csv\n",
      "/kaggle/input/titanic/gender_submission.csv\n"
     ]
    }
   ],
   "source": [
    "# This Python 3 environment comes with many helpful analytics libraries installed\n",
    "# It is defined by the kaggle/python Docker image: https://github.com/kaggle/docker-python\n",
    "# For example, here's several helpful packages to load\n",
    "\n",
    "import numpy as np # linear algebra\n",
    "import pandas as pd # data processing, CSV file I/O (e.g. pd.read_csv)\n",
    "import seaborn as sns\n",
    "import matplotlib.pyplot as plt\n",
    "from sklearn.ensemble import RandomForestClassifier\n",
    "# Input data files are available in the read-only \"../input/\"directory\n",
    "# For example, running this (by clicking run or pressing Shift+Enter) will list all files under the input directory\n",
    "\n",
    "import os\n",
    "for dirname, _, filenames in os.walk('/kaggle/input'):\n",
    "    for filename in filenames:\n",
    "        print(os.path.join(dirname, filename))\n",
    "\n",
    "# You can write up to 20GB to the current directory (/kaggle/working/) that gets preserved as output when you create a version using \"Save & Run All\" \n",
    "# You can also write temporary files to /kaggle/temp/, but they won't be saved outside of the current session"
   ]
  },
  {
   "cell_type": "code",
   "execution_count": 2,
   "id": "5ecc1ca1",
   "metadata": {
    "execution": {
     "iopub.execute_input": "2024-09-18T10:46:41.140311Z",
     "iopub.status.busy": "2024-09-18T10:46:41.139710Z",
     "iopub.status.idle": "2024-09-18T10:46:41.175614Z",
     "shell.execute_reply": "2024-09-18T10:46:41.174277Z"
    },
    "papermill": {
     "duration": 0.049649,
     "end_time": "2024-09-18T10:46:41.178339",
     "exception": false,
     "start_time": "2024-09-18T10:46:41.128690",
     "status": "completed"
    },
    "tags": []
   },
   "outputs": [
    {
     "name": "stdout",
     "output_type": "stream",
     "text": [
      "whats the shape (891, 12)\n",
      "which columns have null values : \n",
      " PassengerId      0\n",
      "Survived         0\n",
      "Pclass           0\n",
      "Name             0\n",
      "Sex              0\n",
      "Age            177\n",
      "SibSp            0\n",
      "Parch            0\n",
      "Ticket           0\n",
      "Fare             0\n",
      "Cabin          687\n",
      "Embarked         2\n",
      "dtype: int64\n"
     ]
    }
   ],
   "source": [
    "train_data=pd.read_csv(\"/kaggle/input/titanic/train.csv\")\n",
    "train_data.head()\n",
    "\n",
    "print(\"whats the shape\",train_data.shape)\n",
    "print(\"which columns have null values : \\n\",train_data.isnull().sum())\n"
   ]
  },
  {
   "cell_type": "code",
   "execution_count": 3,
   "id": "95242e6e",
   "metadata": {
    "execution": {
     "iopub.execute_input": "2024-09-18T10:46:41.199235Z",
     "iopub.status.busy": "2024-09-18T10:46:41.198783Z",
     "iopub.status.idle": "2024-09-18T10:46:41.210968Z",
     "shell.execute_reply": "2024-09-18T10:46:41.209654Z"
    },
    "papermill": {
     "duration": 0.025471,
     "end_time": "2024-09-18T10:46:41.213356",
     "exception": false,
     "start_time": "2024-09-18T10:46:41.187885",
     "status": "completed"
    },
    "tags": []
   },
   "outputs": [],
   "source": [
    "train_data.fillna({\"Age\":train_data['Age'].mean()},inplace=True)"
   ]
  },
  {
   "cell_type": "code",
   "execution_count": 4,
   "id": "0f6d7042",
   "metadata": {
    "execution": {
     "iopub.execute_input": "2024-09-18T10:46:41.234171Z",
     "iopub.status.busy": "2024-09-18T10:46:41.233734Z",
     "iopub.status.idle": "2024-09-18T10:46:41.247775Z",
     "shell.execute_reply": "2024-09-18T10:46:41.246538Z"
    },
    "papermill": {
     "duration": 0.027412,
     "end_time": "2024-09-18T10:46:41.250336",
     "exception": false,
     "start_time": "2024-09-18T10:46:41.222924",
     "status": "completed"
    },
    "tags": []
   },
   "outputs": [],
   "source": [
    "train_data.head()\n",
    "train_data.isnull().sum()\n",
    "train_data.drop([\"PassengerId\", \"Name\", \"Ticket\", \"Cabin\"],axis=1,inplace=True)"
   ]
  },
  {
   "cell_type": "markdown",
   "id": "caf4748b",
   "metadata": {
    "papermill": {
     "duration": 0.009042,
     "end_time": "2024-09-18T10:46:41.268822",
     "exception": false,
     "start_time": "2024-09-18T10:46:41.259780",
     "status": "completed"
    },
    "tags": []
   },
   "source": [
    "The LabelEncoder from sklearn.preprocessing is used to convert categorical variables (usually strings) into numerical values, which machine learning algorithms can process. \n",
    "\n",
    "le.fit_transform(): This function first \"fits\" the LabelEncoder to the data, i.e., it learns the mapping from category labels (e.g., 'male', 'female') to integers. Then, it \"transforms\" the original categorical data into these numerical values."
   ]
  },
  {
   "cell_type": "code",
   "execution_count": 5,
   "id": "63e72e3e",
   "metadata": {
    "execution": {
     "iopub.execute_input": "2024-09-18T10:46:41.289647Z",
     "iopub.status.busy": "2024-09-18T10:46:41.288545Z",
     "iopub.status.idle": "2024-09-18T10:46:41.311879Z",
     "shell.execute_reply": "2024-09-18T10:46:41.310596Z"
    },
    "papermill": {
     "duration": 0.036558,
     "end_time": "2024-09-18T10:46:41.314497",
     "exception": false,
     "start_time": "2024-09-18T10:46:41.277939",
     "status": "completed"
    },
    "tags": []
   },
   "outputs": [
    {
     "data": {
      "text/html": [
       "<div>\n",
       "<style scoped>\n",
       "    .dataframe tbody tr th:only-of-type {\n",
       "        vertical-align: middle;\n",
       "    }\n",
       "\n",
       "    .dataframe tbody tr th {\n",
       "        vertical-align: top;\n",
       "    }\n",
       "\n",
       "    .dataframe thead th {\n",
       "        text-align: right;\n",
       "    }\n",
       "</style>\n",
       "<table border=\"1\" class=\"dataframe\">\n",
       "  <thead>\n",
       "    <tr style=\"text-align: right;\">\n",
       "      <th></th>\n",
       "      <th>Survived</th>\n",
       "      <th>Pclass</th>\n",
       "      <th>Sex</th>\n",
       "      <th>Age</th>\n",
       "      <th>SibSp</th>\n",
       "      <th>Parch</th>\n",
       "      <th>Fare</th>\n",
       "      <th>Embarked</th>\n",
       "    </tr>\n",
       "  </thead>\n",
       "  <tbody>\n",
       "    <tr>\n",
       "      <th>0</th>\n",
       "      <td>0</td>\n",
       "      <td>3</td>\n",
       "      <td>1</td>\n",
       "      <td>22.0</td>\n",
       "      <td>1</td>\n",
       "      <td>0</td>\n",
       "      <td>7.2500</td>\n",
       "      <td>S</td>\n",
       "    </tr>\n",
       "    <tr>\n",
       "      <th>1</th>\n",
       "      <td>1</td>\n",
       "      <td>1</td>\n",
       "      <td>0</td>\n",
       "      <td>38.0</td>\n",
       "      <td>1</td>\n",
       "      <td>0</td>\n",
       "      <td>71.2833</td>\n",
       "      <td>C</td>\n",
       "    </tr>\n",
       "    <tr>\n",
       "      <th>2</th>\n",
       "      <td>1</td>\n",
       "      <td>3</td>\n",
       "      <td>0</td>\n",
       "      <td>26.0</td>\n",
       "      <td>0</td>\n",
       "      <td>0</td>\n",
       "      <td>7.9250</td>\n",
       "      <td>S</td>\n",
       "    </tr>\n",
       "    <tr>\n",
       "      <th>3</th>\n",
       "      <td>1</td>\n",
       "      <td>1</td>\n",
       "      <td>0</td>\n",
       "      <td>35.0</td>\n",
       "      <td>1</td>\n",
       "      <td>0</td>\n",
       "      <td>53.1000</td>\n",
       "      <td>S</td>\n",
       "    </tr>\n",
       "    <tr>\n",
       "      <th>4</th>\n",
       "      <td>0</td>\n",
       "      <td>3</td>\n",
       "      <td>1</td>\n",
       "      <td>35.0</td>\n",
       "      <td>0</td>\n",
       "      <td>0</td>\n",
       "      <td>8.0500</td>\n",
       "      <td>S</td>\n",
       "    </tr>\n",
       "  </tbody>\n",
       "</table>\n",
       "</div>"
      ],
      "text/plain": [
       "   Survived  Pclass  Sex   Age  SibSp  Parch     Fare Embarked\n",
       "0         0       3    1  22.0      1      0   7.2500        S\n",
       "1         1       1    0  38.0      1      0  71.2833        C\n",
       "2         1       3    0  26.0      0      0   7.9250        S\n",
       "3         1       1    0  35.0      1      0  53.1000        S\n",
       "4         0       3    1  35.0      0      0   8.0500        S"
      ]
     },
     "execution_count": 5,
     "metadata": {},
     "output_type": "execute_result"
    }
   ],
   "source": [
    "# label encoding with \n",
    "from sklearn.preprocessing import LabelEncoder,OneHotEncoder\n",
    "\n",
    "le=LabelEncoder()\n",
    "train_data['Sex']=le.fit_transform(train_data['Sex'])\n",
    "train_data.head()"
   ]
  },
  {
   "cell_type": "code",
   "execution_count": 6,
   "id": "353221f8",
   "metadata": {
    "execution": {
     "iopub.execute_input": "2024-09-18T10:46:41.336231Z",
     "iopub.status.busy": "2024-09-18T10:46:41.335809Z",
     "iopub.status.idle": "2024-09-18T10:46:41.350114Z",
     "shell.execute_reply": "2024-09-18T10:46:41.348980Z"
    },
    "papermill": {
     "duration": 0.027864,
     "end_time": "2024-09-18T10:46:41.352518",
     "exception": false,
     "start_time": "2024-09-18T10:46:41.324654",
     "status": "completed"
    },
    "tags": []
   },
   "outputs": [
    {
     "data": {
      "text/plain": [
       "Embarked\n",
       "S    644\n",
       "C    168\n",
       "Q     77\n",
       "Name: count, dtype: int64"
      ]
     },
     "execution_count": 6,
     "metadata": {},
     "output_type": "execute_result"
    }
   ],
   "source": [
    "train_data['Embarked'].value_counts()"
   ]
  },
  {
   "cell_type": "markdown",
   "id": "63fb363e",
   "metadata": {
    "papermill": {
     "duration": 0.009303,
     "end_time": "2024-09-18T10:46:41.371616",
     "exception": false,
     "start_time": "2024-09-18T10:46:41.362313",
     "status": "completed"
    },
    "tags": []
   },
   "source": [
    "**What is One-Hot Encoding?**\n",
    "\n",
    "One-hot encoding is a technique used to convert categorical data into a format that can be provided to machine learning algorithms. It creates binary columns for each unique category in the original categorical column. This ensures that no ordinal relationship is assumed between categories.\n",
    "\n",
    "For example, if the Embarked column has three possible values like ['S', 'C', 'Q'], one-hot encoding will create three new columns, where each column corresponds to one of the categories:\n",
    "\n",
    "Embarked_S\n",
    "Embarked_C\n",
    "Embarked_Q"
   ]
  },
  {
   "cell_type": "code",
   "execution_count": 7,
   "id": "bb513ebb",
   "metadata": {
    "execution": {
     "iopub.execute_input": "2024-09-18T10:46:41.392673Z",
     "iopub.status.busy": "2024-09-18T10:46:41.392225Z",
     "iopub.status.idle": "2024-09-18T10:46:41.425718Z",
     "shell.execute_reply": "2024-09-18T10:46:41.424596Z"
    },
    "papermill": {
     "duration": 0.047126,
     "end_time": "2024-09-18T10:46:41.428420",
     "exception": false,
     "start_time": "2024-09-18T10:46:41.381294",
     "status": "completed"
    },
    "tags": []
   },
   "outputs": [
    {
     "name": "stdout",
     "output_type": "stream",
     "text": [
      "The current shape of train_Data (889, 8)\n"
     ]
    },
    {
     "data": {
      "text/html": [
       "<div>\n",
       "<style scoped>\n",
       "    .dataframe tbody tr th:only-of-type {\n",
       "        vertical-align: middle;\n",
       "    }\n",
       "\n",
       "    .dataframe tbody tr th {\n",
       "        vertical-align: top;\n",
       "    }\n",
       "\n",
       "    .dataframe thead th {\n",
       "        text-align: right;\n",
       "    }\n",
       "</style>\n",
       "<table border=\"1\" class=\"dataframe\">\n",
       "  <thead>\n",
       "    <tr style=\"text-align: right;\">\n",
       "      <th></th>\n",
       "      <th>Survived</th>\n",
       "      <th>Pclass</th>\n",
       "      <th>Sex</th>\n",
       "      <th>Age</th>\n",
       "      <th>SibSp</th>\n",
       "      <th>Parch</th>\n",
       "      <th>Fare</th>\n",
       "      <th>Embarked_C</th>\n",
       "      <th>Embarked_Q</th>\n",
       "      <th>Embarked_S</th>\n",
       "    </tr>\n",
       "  </thead>\n",
       "  <tbody>\n",
       "    <tr>\n",
       "      <th>0</th>\n",
       "      <td>0</td>\n",
       "      <td>3</td>\n",
       "      <td>1</td>\n",
       "      <td>22.0</td>\n",
       "      <td>1</td>\n",
       "      <td>0</td>\n",
       "      <td>7.2500</td>\n",
       "      <td>0.0</td>\n",
       "      <td>0.0</td>\n",
       "      <td>1.0</td>\n",
       "    </tr>\n",
       "    <tr>\n",
       "      <th>1</th>\n",
       "      <td>1</td>\n",
       "      <td>1</td>\n",
       "      <td>0</td>\n",
       "      <td>38.0</td>\n",
       "      <td>1</td>\n",
       "      <td>0</td>\n",
       "      <td>71.2833</td>\n",
       "      <td>1.0</td>\n",
       "      <td>0.0</td>\n",
       "      <td>0.0</td>\n",
       "    </tr>\n",
       "    <tr>\n",
       "      <th>2</th>\n",
       "      <td>1</td>\n",
       "      <td>3</td>\n",
       "      <td>0</td>\n",
       "      <td>26.0</td>\n",
       "      <td>0</td>\n",
       "      <td>0</td>\n",
       "      <td>7.9250</td>\n",
       "      <td>0.0</td>\n",
       "      <td>0.0</td>\n",
       "      <td>1.0</td>\n",
       "    </tr>\n",
       "    <tr>\n",
       "      <th>3</th>\n",
       "      <td>1</td>\n",
       "      <td>1</td>\n",
       "      <td>0</td>\n",
       "      <td>35.0</td>\n",
       "      <td>1</td>\n",
       "      <td>0</td>\n",
       "      <td>53.1000</td>\n",
       "      <td>0.0</td>\n",
       "      <td>0.0</td>\n",
       "      <td>1.0</td>\n",
       "    </tr>\n",
       "    <tr>\n",
       "      <th>4</th>\n",
       "      <td>0</td>\n",
       "      <td>3</td>\n",
       "      <td>1</td>\n",
       "      <td>35.0</td>\n",
       "      <td>0</td>\n",
       "      <td>0</td>\n",
       "      <td>8.0500</td>\n",
       "      <td>0.0</td>\n",
       "      <td>0.0</td>\n",
       "      <td>1.0</td>\n",
       "    </tr>\n",
       "  </tbody>\n",
       "</table>\n",
       "</div>"
      ],
      "text/plain": [
       "   Survived  Pclass  Sex   Age  SibSp  Parch     Fare  Embarked_C  Embarked_Q  \\\n",
       "0         0       3    1  22.0      1      0   7.2500         0.0         0.0   \n",
       "1         1       1    0  38.0      1      0  71.2833         1.0         0.0   \n",
       "2         1       3    0  26.0      0      0   7.9250         0.0         0.0   \n",
       "3         1       1    0  35.0      1      0  53.1000         0.0         0.0   \n",
       "4         0       3    1  35.0      0      0   8.0500         0.0         0.0   \n",
       "\n",
       "   Embarked_S  \n",
       "0         1.0  \n",
       "1         0.0  \n",
       "2         1.0  \n",
       "3         1.0  \n",
       "4         1.0  "
      ]
     },
     "execution_count": 7,
     "metadata": {},
     "output_type": "execute_result"
    }
   ],
   "source": [
    "# we can do encoding for the embarked column\n",
    "train_data.dropna(subset=['Embarked'],inplace=True)\n",
    "train_data=train_data.reset_index(drop=True)\n",
    "print(\"The current shape of train_Data\",train_data.shape)\n",
    "\n",
    "#encoding \n",
    "# Initialize OneHotEncoder and specify to return dense output (not sparse)\n",
    "ohe=OneHotEncoder(sparse_output=False)\n",
    "encoding=ohe.fit_transform(train_data[[\"Embarked\"]])\n",
    "\n",
    "# Convert the resulting encoding into a DataFrame with appropriate column names\n",
    "temp_df=pd.DataFrame(encoding,columns=ohe.get_feature_names_out(['Embarked']))\n",
    "\n",
    "# Concatenate the original DataFrame with the new one-hot-encoded columns\n",
    "train_data=pd.concat([train_data,temp_df],axis=1)\n",
    "train_data=train_data.drop([\"Embarked\"],axis=1)\n",
    "\n",
    "train_data.head()"
   ]
  },
  {
   "cell_type": "markdown",
   "id": "f80fbc6e",
   "metadata": {
    "execution": {
     "iopub.execute_input": "2024-09-18T08:33:23.880086Z",
     "iopub.status.busy": "2024-09-18T08:33:23.879716Z",
     "iopub.status.idle": "2024-09-18T08:33:24.169638Z",
     "shell.execute_reply": "2024-09-18T08:33:24.168400Z",
     "shell.execute_reply.started": "2024-09-18T08:33:23.880050Z"
    },
    "papermill": {
     "duration": 0.01052,
     "end_time": "2024-09-18T10:46:41.449022",
     "exception": false,
     "start_time": "2024-09-18T10:46:41.438502",
     "status": "completed"
    },
    "tags": []
   },
   "source": [
    "### "
   ]
  },
  {
   "cell_type": "markdown",
   "id": "2519fdfb",
   "metadata": {
    "papermill": {
     "duration": 0.009776,
     "end_time": "2024-09-18T10:46:41.469052",
     "exception": false,
     "start_time": "2024-09-18T10:46:41.459276",
     "status": "completed"
    },
    "tags": []
   },
   "source": [
    "# Visulization"
   ]
  },
  {
   "cell_type": "code",
   "execution_count": 8,
   "id": "3fc4f4b8",
   "metadata": {
    "execution": {
     "iopub.execute_input": "2024-09-18T10:46:41.490778Z",
     "iopub.status.busy": "2024-09-18T10:46:41.490349Z",
     "iopub.status.idle": "2024-09-18T10:46:42.366861Z",
     "shell.execute_reply": "2024-09-18T10:46:42.365644Z"
    },
    "papermill": {
     "duration": 0.890853,
     "end_time": "2024-09-18T10:46:42.369858",
     "exception": false,
     "start_time": "2024-09-18T10:46:41.479005",
     "status": "completed"
    },
    "tags": []
   },
   "outputs": [
    {
     "data": {
      "image/png": "[encoded data removed]",
      "text/plain": [
       "<Figure size 1500x1500 with 2 Axes>"
      ]
     },
     "metadata": {},
     "output_type": "display_data"
    }
   ],
   "source": [
    "plt.figure(figsize=(15,15))\n",
    "p=sns.heatmap(train_data.corr(),annot =True ,cmap='RdYlGn',center=0)"
   ]
  },
  {
   "cell_type": "code",
   "execution_count": 9,
   "id": "e9fdd70b",
   "metadata": {
    "execution": {
     "iopub.execute_input": "2024-09-18T10:46:42.395707Z",
     "iopub.status.busy": "2024-09-18T10:46:42.395175Z",
     "iopub.status.idle": "2024-09-18T10:46:42.401633Z",
     "shell.execute_reply": "2024-09-18T10:46:42.400504Z"
    },
    "papermill": {
     "duration": 0.022123,
     "end_time": "2024-09-18T10:46:42.404012",
     "exception": false,
     "start_time": "2024-09-18T10:46:42.381889",
     "status": "completed"
    },
    "tags": []
   },
   "outputs": [],
   "source": [
    "X=train_data.iloc[:,1:]\n",
    "y=train_data.iloc[:,0]"
   ]
  },
  {
   "cell_type": "code",
   "execution_count": 10,
   "id": "ef07ad7a",
   "metadata": {
    "execution": {
     "iopub.execute_input": "2024-09-18T10:46:42.430148Z",
     "iopub.status.busy": "2024-09-18T10:46:42.429720Z",
     "iopub.status.idle": "2024-09-18T10:46:42.454091Z",
     "shell.execute_reply": "2024-09-18T10:46:42.452903Z"
    },
    "papermill": {
     "duration": 0.040234,
     "end_time": "2024-09-18T10:46:42.456397",
     "exception": false,
     "start_time": "2024-09-18T10:46:42.416163",
     "status": "completed"
    },
    "tags": []
   },
   "outputs": [
    {
     "name": "stdout",
     "output_type": "stream",
     "text": [
      "x: <class 'pandas.core.frame.DataFrame'> y: <class 'pandas.core.series.Series'>\n"
     ]
    },
    {
     "data": {
      "text/html": [
       "<div>\n",
       "<style scoped>\n",
       "    .dataframe tbody tr th:only-of-type {\n",
       "        vertical-align: middle;\n",
       "    }\n",
       "\n",
       "    .dataframe tbody tr th {\n",
       "        vertical-align: top;\n",
       "    }\n",
       "\n",
       "    .dataframe thead th {\n",
       "        text-align: right;\n",
       "    }\n",
       "</style>\n",
       "<table border=\"1\" class=\"dataframe\">\n",
       "  <thead>\n",
       "    <tr style=\"text-align: right;\">\n",
       "      <th></th>\n",
       "      <th>Pclass</th>\n",
       "      <th>Sex</th>\n",
       "      <th>Age</th>\n",
       "      <th>SibSp</th>\n",
       "      <th>Parch</th>\n",
       "      <th>Fare</th>\n",
       "      <th>Embarked_C</th>\n",
       "      <th>Embarked_Q</th>\n",
       "      <th>Embarked_S</th>\n",
       "    </tr>\n",
       "  </thead>\n",
       "  <tbody>\n",
       "    <tr>\n",
       "      <th>0</th>\n",
       "      <td>3</td>\n",
       "      <td>1</td>\n",
       "      <td>22.000000</td>\n",
       "      <td>1</td>\n",
       "      <td>0</td>\n",
       "      <td>7.2500</td>\n",
       "      <td>0.0</td>\n",
       "      <td>0.0</td>\n",
       "      <td>1.0</td>\n",
       "    </tr>\n",
       "    <tr>\n",
       "      <th>1</th>\n",
       "      <td>1</td>\n",
       "      <td>0</td>\n",
       "      <td>38.000000</td>\n",
       "      <td>1</td>\n",
       "      <td>0</td>\n",
       "      <td>71.2833</td>\n",
       "      <td>1.0</td>\n",
       "      <td>0.0</td>\n",
       "      <td>0.0</td>\n",
       "    </tr>\n",
       "    <tr>\n",
       "      <th>2</th>\n",
       "      <td>3</td>\n",
       "      <td>0</td>\n",
       "      <td>26.000000</td>\n",
       "      <td>0</td>\n",
       "      <td>0</td>\n",
       "      <td>7.9250</td>\n",
       "      <td>0.0</td>\n",
       "      <td>0.0</td>\n",
       "      <td>1.0</td>\n",
       "    </tr>\n",
       "    <tr>\n",
       "      <th>3</th>\n",
       "      <td>1</td>\n",
       "      <td>0</td>\n",
       "      <td>35.000000</td>\n",
       "      <td>1</td>\n",
       "      <td>0</td>\n",
       "      <td>53.1000</td>\n",
       "      <td>0.0</td>\n",
       "      <td>0.0</td>\n",
       "      <td>1.0</td>\n",
       "    </tr>\n",
       "    <tr>\n",
       "      <th>4</th>\n",
       "      <td>3</td>\n",
       "      <td>1</td>\n",
       "      <td>35.000000</td>\n",
       "      <td>0</td>\n",
       "      <td>0</td>\n",
       "      <td>8.0500</td>\n",
       "      <td>0.0</td>\n",
       "      <td>0.0</td>\n",
       "      <td>1.0</td>\n",
       "    </tr>\n",
       "    <tr>\n",
       "      <th>...</th>\n",
       "      <td>...</td>\n",
       "      <td>...</td>\n",
       "      <td>...</td>\n",
       "      <td>...</td>\n",
       "      <td>...</td>\n",
       "      <td>...</td>\n",
       "      <td>...</td>\n",
       "      <td>...</td>\n",
       "      <td>...</td>\n",
       "    </tr>\n",
       "    <tr>\n",
       "      <th>884</th>\n",
       "      <td>2</td>\n",
       "      <td>1</td>\n",
       "      <td>27.000000</td>\n",
       "      <td>0</td>\n",
       "      <td>0</td>\n",
       "      <td>13.0000</td>\n",
       "      <td>0.0</td>\n",
       "      <td>0.0</td>\n",
       "      <td>1.0</td>\n",
       "    </tr>\n",
       "    <tr>\n",
       "      <th>885</th>\n",
       "      <td>1</td>\n",
       "      <td>0</td>\n",
       "      <td>19.000000</td>\n",
       "      <td>0</td>\n",
       "      <td>0</td>\n",
       "      <td>30.0000</td>\n",
       "      <td>0.0</td>\n",
       "      <td>0.0</td>\n",
       "      <td>1.0</td>\n",
       "    </tr>\n",
       "    <tr>\n",
       "      <th>886</th>\n",
       "      <td>3</td>\n",
       "      <td>0</td>\n",
       "      <td>29.699118</td>\n",
       "      <td>1</td>\n",
       "      <td>2</td>\n",
       "      <td>23.4500</td>\n",
       "      <td>0.0</td>\n",
       "      <td>0.0</td>\n",
       "      <td>1.0</td>\n",
       "    </tr>\n",
       "    <tr>\n",
       "      <th>887</th>\n",
       "      <td>1</td>\n",
       "      <td>1</td>\n",
       "      <td>26.000000</td>\n",
       "      <td>0</td>\n",
       "      <td>0</td>\n",
       "      <td>30.0000</td>\n",
       "      <td>1.0</td>\n",
       "      <td>0.0</td>\n",
       "      <td>0.0</td>\n",
       "    </tr>\n",
       "    <tr>\n",
       "      <th>888</th>\n",
       "      <td>3</td>\n",
       "      <td>1</td>\n",
       "      <td>32.000000</td>\n",
       "      <td>0</td>\n",
       "      <td>0</td>\n",
       "      <td>7.7500</td>\n",
       "      <td>0.0</td>\n",
       "      <td>1.0</td>\n",
       "      <td>0.0</td>\n",
       "    </tr>\n",
       "  </tbody>\n",
       "</table>\n",
       "<p>889 rows × 9 columns</p>\n",
       "</div>"
      ],
      "text/plain": [
       "     Pclass  Sex        Age  SibSp  Parch     Fare  Embarked_C  Embarked_Q  \\\n",
       "0         3    1  22.000000      1      0   7.2500         0.0         0.0   \n",
       "1         1    0  38.000000      1      0  71.2833         1.0         0.0   \n",
       "2         3    0  26.000000      0      0   7.9250         0.0         0.0   \n",
       "3         1    0  35.000000      1      0  53.1000         0.0         0.0   \n",
       "4         3    1  35.000000      0      0   8.0500         0.0         0.0   \n",
       "..      ...  ...        ...    ...    ...      ...         ...         ...   \n",
       "884       2    1  27.000000      0      0  13.0000         0.0         0.0   \n",
       "885       1    0  19.000000      0      0  30.0000         0.0         0.0   \n",
       "886       3    0  29.699118      1      2  23.4500         0.0         0.0   \n",
       "887       1    1  26.000000      0      0  30.0000         1.0         0.0   \n",
       "888       3    1  32.000000      0      0   7.7500         0.0         1.0   \n",
       "\n",
       "     Embarked_S  \n",
       "0           1.0  \n",
       "1           0.0  \n",
       "2           1.0  \n",
       "3           1.0  \n",
       "4           1.0  \n",
       "..          ...  \n",
       "884         1.0  \n",
       "885         1.0  \n",
       "886         1.0  \n",
       "887         0.0  \n",
       "888         0.0  \n",
       "\n",
       "[889 rows x 9 columns]"
      ]
     },
     "execution_count": 10,
     "metadata": {},
     "output_type": "execute_result"
    }
   ],
   "source": [
    "print(\"x:\",type(X),\"y:\",type(y))\n",
    "X"
   ]
  },
  {
   "cell_type": "code",
   "execution_count": 11,
   "id": "5e3dea94",
   "metadata": {
    "execution": {
     "iopub.execute_input": "2024-09-18T10:46:42.484453Z",
     "iopub.status.busy": "2024-09-18T10:46:42.483607Z",
     "iopub.status.idle": "2024-09-18T10:46:44.257402Z",
     "shell.execute_reply": "2024-09-18T10:46:44.256331Z"
    },
    "papermill": {
     "duration": 1.791344,
     "end_time": "2024-09-18T10:46:44.260485",
     "exception": false,
     "start_time": "2024-09-18T10:46:42.469141",
     "status": "completed"
    },
    "tags": []
   },
   "outputs": [
    {
     "data": {
      "text/html": [
       "<style>#sk-container-id-1 {color: black;background-color: white;}#sk-container-id-1 pre{padding: 0;}#sk-container-id-1 div.sk-toggleable {background-color: white;}#sk-container-id-1 label.sk-toggleable__label {cursor: pointer;display: block;width: 100%;margin-bottom: 0;padding: 0.3em;box-sizing: border-box;text-align: center;}#sk-container-id-1 label.sk-toggleable__label-arrow:before {content: \"▸\";float: left;margin-right: 0.25em;color: #696969;}#sk-container-id-1 label.sk-toggleable__label-arrow:hover:before {color: black;}#sk-container-id-1 div.sk-estimator:hover label.sk-toggleable__label-arrow:before {color: black;}#sk-container-id-1 div.sk-toggleable__content {max-height: 0;max-width: 0;overflow: hidden;text-align: left;background-color: #f0f8ff;}#sk-container-id-1 div.sk-toggleable__content pre {margin: 0.2em;color: black;border-radius: 0.25em;background-color: #f0f8ff;}#sk-container-id-1 input.sk-toggleable__control:checked~div.sk-toggleable__content {max-height: 200px;max-width: 100%;overflow: auto;}#sk-container-id-1 input.sk-toggleable__control:checked~label.sk-toggleable__label-arrow:before {content: \"▾\";}#sk-container-id-1 div.sk-estimator input.sk-toggleable__control:checked~label.sk-toggleable__label {background-color: #d4ebff;}#sk-container-id-1 div.sk-label input.sk-toggleable__control:checked~label.sk-toggleable__label {background-color: #d4ebff;}#sk-container-id-1 input.sk-hidden--visually {border: 0;clip: rect(1px 1px 1px 1px);clip: rect(1px, 1px, 1px, 1px);height: 1px;margin: -1px;overflow: hidden;padding: 0;position: absolute;width: 1px;}#sk-container-id-1 div.sk-estimator {font-family: monospace;background-color: #f0f8ff;border: 1px dotted black;border-radius: 0.25em;box-sizing: border-box;margin-bottom: 0.5em;}#sk-container-id-1 div.sk-estimator:hover {background-color: #d4ebff;}#sk-container-id-1 div.sk-parallel-item::after {content: \"\";width: 100%;border-bottom: 1px solid gray;flex-grow: 1;}#sk-container-id-1 div.sk-label:hover label.sk-toggleable__label {background-color: #d4ebff;}#sk-container-id-1 div.sk-serial::before {content: \"\";position: absolute;border-left: 1px solid gray;box-sizing: border-box;top: 0;bottom: 0;left: 50%;z-index: 0;}#sk-container-id-1 div.sk-serial {display: flex;flex-direction: column;align-items: center;background-color: white;padding-right: 0.2em;padding-left: 0.2em;position: relative;}#sk-container-id-1 div.sk-item {position: relative;z-index: 1;}#sk-container-id-1 div.sk-parallel {display: flex;align-items: stretch;justify-content: center;background-color: white;position: relative;}#sk-container-id-1 div.sk-item::before, #sk-container-id-1 div.sk-parallel-item::before {content: \"\";position: absolute;border-left: 1px solid gray;box-sizing: border-box;top: 0;bottom: 0;left: 50%;z-index: -1;}#sk-container-id-1 div.sk-parallel-item {display: flex;flex-direction: column;z-index: 1;position: relative;background-color: white;}#sk-container-id-1 div.sk-parallel-item:first-child::after {align-self: flex-end;width: 50%;}#sk-container-id-1 div.sk-parallel-item:last-child::after {align-self: flex-start;width: 50%;}#sk-container-id-1 div.sk-parallel-item:only-child::after {width: 0;}#sk-container-id-1 div.sk-dashed-wrapped {border: 1px dashed gray;margin: 0 0.4em 0.5em 0.4em;box-sizing: border-box;padding-bottom: 0.4em;background-color: white;}#sk-container-id-1 div.sk-label label {font-family: monospace;font-weight: bold;display: inline-block;line-height: 1.2em;}#sk-container-id-1 div.sk-label-container {text-align: center;}#sk-container-id-1 div.sk-container {/* jupyter's `normalize.less` sets `[hidden] { display: none; }` but bootstrap.min.css set `[hidden] { display: none !important; }` so we also need the `!important` here to be able to override the default hidden behavior on the sphinx rendered scikit-learn.org. See: https://github.com/scikit-learn/scikit-learn/issues/21755 */display: inline-block !important;position: relative;}#sk-container-id-1 div.sk-text-repr-fallback {display: none;}</style><div id=\"sk-container-id-1\" class=\"sk-top-container\"><div class=\"sk-text-repr-fallback\"><pre>RandomForestClassifier(max_depth=10, min_samples_leaf=3, min_samples_split=4,\n",
       "                       n_estimators=500, oob_score=True, random_state=42)</pre><b>In a Jupyter environment, please rerun this cell to show the HTML representation or trust the notebook. <br />On GitHub, the HTML representation is unable to render, please try loading this page with nbviewer.org.</b></div><div class=\"sk-container\" hidden><div class=\"sk-item\"><div class=\"sk-estimator sk-toggleable\"><input class=\"sk-toggleable__control sk-hidden--visually\" id=\"sk-estimator-id-1\" type=\"checkbox\" checked><label for=\"sk-estimator-id-1\" class=\"sk-toggleable__label sk-toggleable__label-arrow\">RandomForestClassifier</label><div class=\"sk-toggleable__content\"><pre>RandomForestClassifier(max_depth=10, min_samples_leaf=3, min_samples_split=4,\n",
       "                       n_estimators=500, oob_score=True, random_state=42)</pre></div></div></div></div></div>"
      ],
      "text/plain": [
       "RandomForestClassifier(max_depth=10, min_samples_leaf=3, min_samples_split=4,\n",
       "                       n_estimators=500, oob_score=True, random_state=42)"
      ]
     },
     "execution_count": 11,
     "metadata": {},
     "output_type": "execute_result"
    }
   ],
   "source": [
    "from sklearn.ensemble import RandomForestClassifier\n",
    "\n",
    "model=RandomForestClassifier(n_estimators=500, max_depth=10, min_samples_split=4, min_samples_leaf=3, \n",
    "                               max_features='sqrt', oob_score=True, random_state=42)\n",
    "model.fit(X,y)"
   ]
  },
  {
   "cell_type": "markdown",
   "id": "a81eac91",
   "metadata": {
    "papermill": {
     "duration": 0.012577,
     "end_time": "2024-09-18T10:46:44.286409",
     "exception": false,
     "start_time": "2024-09-18T10:46:44.273832",
     "status": "completed"
    },
    "tags": []
   },
   "source": [
    "To test the model we will use data from test.csv but again we have do the encodings for the accordingly as we did for train data\n"
   ]
  },
  {
   "cell_type": "code",
   "execution_count": 12,
   "id": "9c655364",
   "metadata": {
    "execution": {
     "iopub.execute_input": "2024-09-18T10:46:44.313731Z",
     "iopub.status.busy": "2024-09-18T10:46:44.313250Z",
     "iopub.status.idle": "2024-09-18T10:46:44.338909Z",
     "shell.execute_reply": "2024-09-18T10:46:44.337663Z"
    },
    "papermill": {
     "duration": 0.042346,
     "end_time": "2024-09-18T10:46:44.341560",
     "exception": false,
     "start_time": "2024-09-18T10:46:44.299214",
     "status": "completed"
    },
    "tags": []
   },
   "outputs": [
    {
     "data": {
      "text/html": [
       "<div>\n",
       "<style scoped>\n",
       "    .dataframe tbody tr th:only-of-type {\n",
       "        vertical-align: middle;\n",
       "    }\n",
       "\n",
       "    .dataframe tbody tr th {\n",
       "        vertical-align: top;\n",
       "    }\n",
       "\n",
       "    .dataframe thead th {\n",
       "        text-align: right;\n",
       "    }\n",
       "</style>\n",
       "<table border=\"1\" class=\"dataframe\">\n",
       "  <thead>\n",
       "    <tr style=\"text-align: right;\">\n",
       "      <th></th>\n",
       "      <th>PassengerId</th>\n",
       "      <th>Pclass</th>\n",
       "      <th>Name</th>\n",
       "      <th>Sex</th>\n",
       "      <th>Age</th>\n",
       "      <th>SibSp</th>\n",
       "      <th>Parch</th>\n",
       "      <th>Ticket</th>\n",
       "      <th>Fare</th>\n",
       "      <th>Cabin</th>\n",
       "      <th>Embarked</th>\n",
       "    </tr>\n",
       "  </thead>\n",
       "  <tbody>\n",
       "    <tr>\n",
       "      <th>0</th>\n",
       "      <td>892</td>\n",
       "      <td>3</td>\n",
       "      <td>Kelly, Mr. James</td>\n",
       "      <td>male</td>\n",
       "      <td>34.5</td>\n",
       "      <td>0</td>\n",
       "      <td>0</td>\n",
       "      <td>330911</td>\n",
       "      <td>7.8292</td>\n",
       "      <td>NaN</td>\n",
       "      <td>Q</td>\n",
       "    </tr>\n",
       "    <tr>\n",
       "      <th>1</th>\n",
       "      <td>893</td>\n",
       "      <td>3</td>\n",
       "      <td>Wilkes, Mrs. James (Ellen Needs)</td>\n",
       "      <td>female</td>\n",
       "      <td>47.0</td>\n",
       "      <td>1</td>\n",
       "      <td>0</td>\n",
       "      <td>363272</td>\n",
       "      <td>7.0000</td>\n",
       "      <td>NaN</td>\n",
       "      <td>S</td>\n",
       "    </tr>\n",
       "    <tr>\n",
       "      <th>2</th>\n",
       "      <td>894</td>\n",
       "      <td>2</td>\n",
       "      <td>Myles, Mr. Thomas Francis</td>\n",
       "      <td>male</td>\n",
       "      <td>62.0</td>\n",
       "      <td>0</td>\n",
       "      <td>0</td>\n",
       "      <td>240276</td>\n",
       "      <td>9.6875</td>\n",
       "      <td>NaN</td>\n",
       "      <td>Q</td>\n",
       "    </tr>\n",
       "    <tr>\n",
       "      <th>3</th>\n",
       "      <td>895</td>\n",
       "      <td>3</td>\n",
       "      <td>Wirz, Mr. Albert</td>\n",
       "      <td>male</td>\n",
       "      <td>27.0</td>\n",
       "      <td>0</td>\n",
       "      <td>0</td>\n",
       "      <td>315154</td>\n",
       "      <td>8.6625</td>\n",
       "      <td>NaN</td>\n",
       "      <td>S</td>\n",
       "    </tr>\n",
       "    <tr>\n",
       "      <th>4</th>\n",
       "      <td>896</td>\n",
       "      <td>3</td>\n",
       "      <td>Hirvonen, Mrs. Alexander (Helga E Lindqvist)</td>\n",
       "      <td>female</td>\n",
       "      <td>22.0</td>\n",
       "      <td>1</td>\n",
       "      <td>1</td>\n",
       "      <td>3101298</td>\n",
       "      <td>12.2875</td>\n",
       "      <td>NaN</td>\n",
       "      <td>S</td>\n",
       "    </tr>\n",
       "  </tbody>\n",
       "</table>\n",
       "</div>"
      ],
      "text/plain": [
       "   PassengerId  Pclass                                          Name     Sex  \\\n",
       "0          892       3                              Kelly, Mr. James    male   \n",
       "1          893       3              Wilkes, Mrs. James (Ellen Needs)  female   \n",
       "2          894       2                     Myles, Mr. Thomas Francis    male   \n",
       "3          895       3                              Wirz, Mr. Albert    male   \n",
       "4          896       3  Hirvonen, Mrs. Alexander (Helga E Lindqvist)  female   \n",
       "\n",
       "    Age  SibSp  Parch   Ticket     Fare Cabin Embarked  \n",
       "0  34.5      0      0   330911   7.8292   NaN        Q  \n",
       "1  47.0      1      0   363272   7.0000   NaN        S  \n",
       "2  62.0      0      0   240276   9.6875   NaN        Q  \n",
       "3  27.0      0      0   315154   8.6625   NaN        S  \n",
       "4  22.0      1      1  3101298  12.2875   NaN        S  "
      ]
     },
     "execution_count": 12,
     "metadata": {},
     "output_type": "execute_result"
    }
   ],
   "source": [
    "test_data=pd.read_csv(\"/kaggle/input/titanic/test.csv\")\n",
    "test_data.head()"
   ]
  },
  {
   "cell_type": "code",
   "execution_count": 13,
   "id": "360cea59",
   "metadata": {
    "execution": {
     "iopub.execute_input": "2024-09-18T10:46:44.370614Z",
     "iopub.status.busy": "2024-09-18T10:46:44.370183Z",
     "iopub.status.idle": "2024-09-18T10:46:44.379690Z",
     "shell.execute_reply": "2024-09-18T10:46:44.378685Z"
    },
    "papermill": {
     "duration": 0.026937,
     "end_time": "2024-09-18T10:46:44.382003",
     "exception": false,
     "start_time": "2024-09-18T10:46:44.355066",
     "status": "completed"
    },
    "tags": []
   },
   "outputs": [
    {
     "data": {
      "text/plain": [
       "PassengerId      0\n",
       "Pclass           0\n",
       "Name             0\n",
       "Sex              0\n",
       "Age             86\n",
       "SibSp            0\n",
       "Parch            0\n",
       "Ticket           0\n",
       "Fare             1\n",
       "Cabin          327\n",
       "Embarked         0\n",
       "dtype: int64"
      ]
     },
     "execution_count": 13,
     "metadata": {},
     "output_type": "execute_result"
    }
   ],
   "source": [
    "test_data.isnull().sum()"
   ]
  },
  {
   "cell_type": "code",
   "execution_count": 14,
   "id": "3f675e1e",
   "metadata": {
    "execution": {
     "iopub.execute_input": "2024-09-18T10:46:44.410516Z",
     "iopub.status.busy": "2024-09-18T10:46:44.410093Z",
     "iopub.status.idle": "2024-09-18T10:46:44.416654Z",
     "shell.execute_reply": "2024-09-18T10:46:44.415356Z"
    },
    "papermill": {
     "duration": 0.023885,
     "end_time": "2024-09-18T10:46:44.419124",
     "exception": false,
     "start_time": "2024-09-18T10:46:44.395239",
     "status": "completed"
    },
    "tags": []
   },
   "outputs": [],
   "source": [
    "test_data.fillna({\"Age\":test_data['Age'].mean()},inplace=True)"
   ]
  },
  {
   "cell_type": "code",
   "execution_count": 15,
   "id": "f855ee2f",
   "metadata": {
    "execution": {
     "iopub.execute_input": "2024-09-18T10:46:44.447990Z",
     "iopub.status.busy": "2024-09-18T10:46:44.447508Z",
     "iopub.status.idle": "2024-09-18T10:46:44.454616Z",
     "shell.execute_reply": "2024-09-18T10:46:44.453407Z"
    },
    "papermill": {
     "duration": 0.024609,
     "end_time": "2024-09-18T10:46:44.457144",
     "exception": false,
     "start_time": "2024-09-18T10:46:44.432535",
     "status": "completed"
    },
    "tags": []
   },
   "outputs": [],
   "source": [
    "test_data.drop([\"Name\", \"Ticket\", \"Cabin\"],axis=1,inplace=True)\n",
    "test_data=test_data.reset_index(drop=True)\n"
   ]
  },
  {
   "cell_type": "code",
   "execution_count": 16,
   "id": "7ba48d92",
   "metadata": {
    "execution": {
     "iopub.execute_input": "2024-09-18T10:46:44.485779Z",
     "iopub.status.busy": "2024-09-18T10:46:44.485292Z",
     "iopub.status.idle": "2024-09-18T10:46:44.510682Z",
     "shell.execute_reply": "2024-09-18T10:46:44.509520Z"
    },
    "papermill": {
     "duration": 0.042553,
     "end_time": "2024-09-18T10:46:44.513074",
     "exception": false,
     "start_time": "2024-09-18T10:46:44.470521",
     "status": "completed"
    },
    "tags": []
   },
   "outputs": [
    {
     "data": {
      "text/html": [
       "<div>\n",
       "<style scoped>\n",
       "    .dataframe tbody tr th:only-of-type {\n",
       "        vertical-align: middle;\n",
       "    }\n",
       "\n",
       "    .dataframe tbody tr th {\n",
       "        vertical-align: top;\n",
       "    }\n",
       "\n",
       "    .dataframe thead th {\n",
       "        text-align: right;\n",
       "    }\n",
       "</style>\n",
       "<table border=\"1\" class=\"dataframe\">\n",
       "  <thead>\n",
       "    <tr style=\"text-align: right;\">\n",
       "      <th></th>\n",
       "      <th>PassengerId</th>\n",
       "      <th>Pclass</th>\n",
       "      <th>Sex</th>\n",
       "      <th>Age</th>\n",
       "      <th>SibSp</th>\n",
       "      <th>Parch</th>\n",
       "      <th>Fare</th>\n",
       "      <th>Embarked_C</th>\n",
       "      <th>Embarked_Q</th>\n",
       "      <th>Embarked_S</th>\n",
       "    </tr>\n",
       "  </thead>\n",
       "  <tbody>\n",
       "    <tr>\n",
       "      <th>0</th>\n",
       "      <td>892</td>\n",
       "      <td>3</td>\n",
       "      <td>1</td>\n",
       "      <td>34.5</td>\n",
       "      <td>0</td>\n",
       "      <td>0</td>\n",
       "      <td>7.8292</td>\n",
       "      <td>0.0</td>\n",
       "      <td>1.0</td>\n",
       "      <td>0.0</td>\n",
       "    </tr>\n",
       "    <tr>\n",
       "      <th>1</th>\n",
       "      <td>893</td>\n",
       "      <td>3</td>\n",
       "      <td>0</td>\n",
       "      <td>47.0</td>\n",
       "      <td>1</td>\n",
       "      <td>0</td>\n",
       "      <td>7.0000</td>\n",
       "      <td>0.0</td>\n",
       "      <td>0.0</td>\n",
       "      <td>1.0</td>\n",
       "    </tr>\n",
       "    <tr>\n",
       "      <th>2</th>\n",
       "      <td>894</td>\n",
       "      <td>2</td>\n",
       "      <td>1</td>\n",
       "      <td>62.0</td>\n",
       "      <td>0</td>\n",
       "      <td>0</td>\n",
       "      <td>9.6875</td>\n",
       "      <td>0.0</td>\n",
       "      <td>1.0</td>\n",
       "      <td>0.0</td>\n",
       "    </tr>\n",
       "    <tr>\n",
       "      <th>3</th>\n",
       "      <td>895</td>\n",
       "      <td>3</td>\n",
       "      <td>1</td>\n",
       "      <td>27.0</td>\n",
       "      <td>0</td>\n",
       "      <td>0</td>\n",
       "      <td>8.6625</td>\n",
       "      <td>0.0</td>\n",
       "      <td>0.0</td>\n",
       "      <td>1.0</td>\n",
       "    </tr>\n",
       "    <tr>\n",
       "      <th>4</th>\n",
       "      <td>896</td>\n",
       "      <td>3</td>\n",
       "      <td>0</td>\n",
       "      <td>22.0</td>\n",
       "      <td>1</td>\n",
       "      <td>1</td>\n",
       "      <td>12.2875</td>\n",
       "      <td>0.0</td>\n",
       "      <td>0.0</td>\n",
       "      <td>1.0</td>\n",
       "    </tr>\n",
       "  </tbody>\n",
       "</table>\n",
       "</div>"
      ],
      "text/plain": [
       "   PassengerId  Pclass  Sex   Age  SibSp  Parch     Fare  Embarked_C  \\\n",
       "0          892       3    1  34.5      0      0   7.8292         0.0   \n",
       "1          893       3    0  47.0      1      0   7.0000         0.0   \n",
       "2          894       2    1  62.0      0      0   9.6875         0.0   \n",
       "3          895       3    1  27.0      0      0   8.6625         0.0   \n",
       "4          896       3    0  22.0      1      1  12.2875         0.0   \n",
       "\n",
       "   Embarked_Q  Embarked_S  \n",
       "0         1.0         0.0  \n",
       "1         0.0         1.0  \n",
       "2         1.0         0.0  \n",
       "3         0.0         1.0  \n",
       "4         0.0         1.0  "
      ]
     },
     "execution_count": 16,
     "metadata": {},
     "output_type": "execute_result"
    }
   ],
   "source": [
    "\n",
    "# le endocing\n",
    "test_data[\"Sex\"]=le.fit_transform(test_data[\"Sex\"])\n",
    "\n",
    "# ohe encoding\n",
    "encoding=ohe.transform(test_data[[\"Embarked\"]])\n",
    "temp_df=pd.DataFrame(encoding,columns=ohe.get_feature_names_out([\"Embarked\"]))\n",
    "\n",
    "test_data=pd.concat([test_data,temp_df],axis=1)\n",
    "\n",
    "test_data = test_data.drop([\"Embarked\"], axis = 1)\n",
    "test_data.head()"
   ]
  },
  {
   "cell_type": "code",
   "execution_count": 17,
   "id": "8de83872",
   "metadata": {
    "execution": {
     "iopub.execute_input": "2024-09-18T10:46:44.542609Z",
     "iopub.status.busy": "2024-09-18T10:46:44.542138Z",
     "iopub.status.idle": "2024-09-18T10:46:44.551556Z",
     "shell.execute_reply": "2024-09-18T10:46:44.550306Z"
    },
    "papermill": {
     "duration": 0.027151,
     "end_time": "2024-09-18T10:46:44.554124",
     "exception": false,
     "start_time": "2024-09-18T10:46:44.526973",
     "status": "completed"
    },
    "tags": []
   },
   "outputs": [],
   "source": [
    "test_data['Fare'] = test_data['Fare'].fillna(test_data.groupby('Pclass')['Fare'].transform('mean'))\n"
   ]
  },
  {
   "cell_type": "code",
   "execution_count": 18,
   "id": "7ba77876",
   "metadata": {
    "execution": {
     "iopub.execute_input": "2024-09-18T10:46:44.583302Z",
     "iopub.status.busy": "2024-09-18T10:46:44.582848Z",
     "iopub.status.idle": "2024-09-18T10:46:44.592826Z",
     "shell.execute_reply": "2024-09-18T10:46:44.591640Z"
    },
    "papermill": {
     "duration": 0.027391,
     "end_time": "2024-09-18T10:46:44.595165",
     "exception": false,
     "start_time": "2024-09-18T10:46:44.567774",
     "status": "completed"
    },
    "tags": []
   },
   "outputs": [
    {
     "data": {
      "text/plain": [
       "PassengerId    0\n",
       "Pclass         0\n",
       "Sex            0\n",
       "Age            0\n",
       "SibSp          0\n",
       "Parch          0\n",
       "Fare           0\n",
       "Embarked_C     0\n",
       "Embarked_Q     0\n",
       "Embarked_S     0\n",
       "dtype: int64"
      ]
     },
     "execution_count": 18,
     "metadata": {},
     "output_type": "execute_result"
    }
   ],
   "source": [
    "test_data.isnull().sum()"
   ]
  },
  {
   "cell_type": "code",
   "execution_count": 19,
   "id": "f17e2421",
   "metadata": {
    "execution": {
     "iopub.execute_input": "2024-09-18T10:46:44.625807Z",
     "iopub.status.busy": "2024-09-18T10:46:44.624642Z",
     "iopub.status.idle": "2024-09-18T10:46:44.695753Z",
     "shell.execute_reply": "2024-09-18T10:46:44.694420Z"
    },
    "papermill": {
     "duration": 0.089407,
     "end_time": "2024-09-18T10:46:44.698483",
     "exception": false,
     "start_time": "2024-09-18T10:46:44.609076",
     "status": "completed"
    },
    "tags": []
   },
   "outputs": [],
   "source": [
    "prediction=model.predict(test_data.drop(columns=[\"PassengerId\"]))\n",
    "test_data[\"Survived\"]=prediction\n"
   ]
  },
  {
   "cell_type": "code",
   "execution_count": 20,
   "id": "adbd6154",
   "metadata": {
    "execution": {
     "iopub.execute_input": "2024-09-18T10:46:44.727982Z",
     "iopub.status.busy": "2024-09-18T10:46:44.727508Z",
     "iopub.status.idle": "2024-09-18T10:46:44.739785Z",
     "shell.execute_reply": "2024-09-18T10:46:44.738548Z"
    },
    "papermill": {
     "duration": 0.029941,
     "end_time": "2024-09-18T10:46:44.742242",
     "exception": false,
     "start_time": "2024-09-18T10:46:44.712301",
     "status": "completed"
    },
    "tags": []
   },
   "outputs": [
    {
     "data": {
      "text/plain": [
       "Survived\n",
       "0    273\n",
       "1    145\n",
       "Name: count, dtype: int64"
      ]
     },
     "execution_count": 20,
     "metadata": {},
     "output_type": "execute_result"
    }
   ],
   "source": [
    "test_data=test_data.loc[:,['PassengerId','Survived']]\n",
    "\n",
    "test_data['Survived'].value_counts()"
   ]
  },
  {
   "cell_type": "code",
   "execution_count": 21,
   "id": "520d2db0",
   "metadata": {
    "execution": {
     "iopub.execute_input": "2024-09-18T10:46:44.772564Z",
     "iopub.status.busy": "2024-09-18T10:46:44.772100Z",
     "iopub.status.idle": "2024-09-18T10:46:44.783353Z",
     "shell.execute_reply": "2024-09-18T10:46:44.782292Z"
    },
    "papermill": {
     "duration": 0.029664,
     "end_time": "2024-09-18T10:46:44.786201",
     "exception": false,
     "start_time": "2024-09-18T10:46:44.756537",
     "status": "completed"
    },
    "tags": []
   },
   "outputs": [],
   "source": [
    "test_data=test_data.head(418)\n",
    "test_data.to_csv(\"submission.csv\",index=False)"
   ]
  },
  {
   "cell_type": "code",
   "execution_count": 22,
   "id": "e18ecc30",
   "metadata": {
    "execution": {
     "iopub.execute_input": "2024-09-18T10:46:44.816187Z",
     "iopub.status.busy": "2024-09-18T10:46:44.815743Z",
     "iopub.status.idle": "2024-09-18T10:46:44.823207Z",
     "shell.execute_reply": "2024-09-18T10:46:44.822192Z"
    },
    "papermill": {
     "duration": 0.025253,
     "end_time": "2024-09-18T10:46:44.825613",
     "exception": false,
     "start_time": "2024-09-18T10:46:44.800360",
     "status": "completed"
    },
    "tags": []
   },
   "outputs": [
    {
     "data": {
      "text/plain": [
       "0.829021372328459"
      ]
     },
     "execution_count": 22,
     "metadata": {},
     "output_type": "execute_result"
    }
   ],
   "source": [
    "model.oob_score_"
   ]
  },
  {
   "cell_type": "code",
   "execution_count": null,
   "id": "658fd5e0",
   "metadata": {
    "papermill": {
     "duration": 0.013733,
     "end_time": "2024-09-18T10:46:44.853223",
     "exception": false,
     "start_time": "2024-09-18T10:46:44.839490",
     "status": "completed"
    },
    "tags": []
   },
   "outputs": [],
   "source": []
  },
  {
   "cell_type": "code",
   "execution_count": null,
   "id": "b47bb532",
   "metadata": {
    "papermill": {
     "duration": 0.013739,
     "end_time": "2024-09-18T10:46:44.880744",
     "exception": false,
     "start_time": "2024-09-18T10:46:44.867005",
     "status": "completed"
    },
    "tags": []
   },
   "outputs": [],
   "source": []
  }
 ],
 "metadata": {
  "kaggle": {
   "accelerator": "none",
   "dataSources": [
    {
     "databundleVersionId": 26502,
     "sourceId": 3136,
     "sourceType": "competition"
    }
   ],
   "dockerImageVersionId": 30761,
   "isGpuEnabled": false,
   "isInternetEnabled": true,
   "language": "python",
   "sourceType": "notebook"
  },
  "kernelspec": {
   "display_name": "Python 3",
   "language": "python",
   "name": "python3"
  },
  "language_info": {
   "codemirror_mode": {
    "name": "ipython",
    "version": 3
   },
   "file_extension": ".py",
   "mimetype": "text/x-python",
   "name": "python",
   "nbconvert_exporter": "python",
   "pygments_lexer": "ipython3",
   "version": "3.10.14"
  },
  "papermill": {
   "default_parameters": {},
   "duration": 10.067156,
   "end_time": "2024-09-18T10:46:45.516292",
   "environment_variables": {},
   "exception": null,
   "input_path": "__notebook__.ipynb",
   "output_path": "__notebook__.ipynb",
   "parameters": {},
   "start_time": "2024-09-18T10:46:35.449136",
   "version": "2.6.0"
  }
 },
 "nbformat": 4,
 "nbformat_minor": 5
}
